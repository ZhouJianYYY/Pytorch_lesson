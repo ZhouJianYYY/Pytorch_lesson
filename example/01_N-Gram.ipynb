{
 "cells": [
  {
   "cell_type": "code",
   "execution_count": 3,
   "metadata": {},
   "outputs": [],
   "source": [
    "import torch \n",
    "import torch.nn as nn\n",
    "import torch.nn.functional as F\n",
    "import torch.optim as optim"
   ]
  },
  {
   "cell_type": "code",
   "execution_count": 2,
   "metadata": {},
   "outputs": [],
   "source": [
    "test_sentence = \"\"\"When forty winters shall besiege thy brow,\n",
    "And dig deep trenches in thy beauty's field,\n",
    "Thy youth's proud livery so gazed on now,\n",
    "Will be a totter'd weed of small worth held:\n",
    "Then being asked, where all thy beauty lies,\n",
    "Where all the treasure of thy lusty days;\n",
    "To say, within thine own deep sunken eyes,\n",
    "Were an all-eating shame, and thriftless praise.\n",
    "How much more praise deserv'd thy beauty's use,\n",
    "If thou couldst answer 'This fair child of mine\n",
    "Shall sum my count, and make my old excuse,'\n",
    "Proving his beauty by succession thine!\n",
    "This were to be new made when thou art old,\n",
    "And see thy blood warm when thou feel'st it cold.\"\"\".split()"
   ]
  },
  {
   "cell_type": "code",
   "execution_count": 4,
   "metadata": {},
   "outputs": [
    {
     "name": "stdout",
     "output_type": "stream",
     "text": [
      "[(['When', 'forty'], 'winters'), (['forty', 'winters'], 'shall'), (['winters', 'shall'], 'besiege')]\n"
     ]
    }
   ],
   "source": [
    "CONTEXT_SIZE=2\n",
    "EMBEDDING_SIZE =10\n",
    "trigrams = [([test_sentence[i],test_sentence[i+1]],test_sentence[i+2]) for i in range(len(test_sentence)-2) ]\n",
    "print(trigrams[:3])"
   ]
  },
  {
   "cell_type": "code",
   "execution_count": 5,
   "metadata": {},
   "outputs": [],
   "source": [
    "vocab = set(test_sentence)\n",
    "word_to_idx = {word:i for i,word in enumerate(vocab)}"
   ]
  },
  {
   "cell_type": "code",
   "execution_count": 28,
   "metadata": {},
   "outputs": [
    {
     "name": "stderr",
     "output_type": "stream",
     "text": [
      "D:\\software\\Anaconda3\\lib\\site-packages\\ipykernel_launcher.py:11: UserWarning: Implicit dimension choice for log_softmax has been deprecated. Change the call to include dim=X as an argument.\n",
      "  # This is added back by InteractiveShellApp.init_path()\n"
     ]
    },
    {
     "name": "stdout",
     "output_type": "stream",
     "text": [
      "after 0 epoch ,train total loss is 527.8221399784088\n",
      "after 1 epoch ,train total loss is 502.43992161750793\n",
      "after 2 epoch ,train total loss is 478.32719898223877\n",
      "after 3 epoch ,train total loss is 454.71233320236206\n",
      "after 4 epoch ,train total loss is 431.02923607826233\n",
      "after 5 epoch ,train total loss is 406.8829126358032\n",
      "after 6 epoch ,train total loss is 382.0823452472687\n",
      "after 7 epoch ,train total loss is 356.49431002140045\n",
      "after 8 epoch ,train total loss is 330.29604864120483\n",
      "after 9 epoch ,train total loss is 303.52102506160736\n",
      "after 10 epoch ,train total loss is 276.5064142346382\n",
      "after 11 epoch ,train total loss is 249.6453601717949\n",
      "after 12 epoch ,train total loss is 223.37196737527847\n",
      "after 13 epoch ,train total loss is 198.21992456912994\n",
      "after 14 epoch ,train total loss is 174.59613886475563\n",
      "after 15 epoch ,train total loss is 152.85880780220032\n",
      "after 16 epoch ,train total loss is 133.19035121798515\n",
      "after 17 epoch ,train total loss is 115.72922551631927\n",
      "after 18 epoch ,train total loss is 100.44289886951447\n",
      "after 19 epoch ,train total loss is 87.2543673813343\n"
     ]
    }
   ],
   "source": [
    "class NGramLanguageModel(nn.Module):\n",
    "    def __init__(self,vocab_size,embeding_dim,context_size):\n",
    "        super(NGramLanguageModel,self).__init__()\n",
    "        self.embedings = nn.Embedding(vocab_size,embeding_dim)\n",
    "        self.linear1 = nn.Linear(context_size * embeding_dim,128)\n",
    "        self.linear2 = nn.Linear(128,vocab_size)\n",
    "    def forward(self,inputs):\n",
    "        embed = self.embedings(inputs).view(1,-1)\n",
    "        out=F.relu(self.linear1(embed))\n",
    "        out=self.linear2(out)\n",
    "        log_prod = F.log_softmax(out)\n",
    "        return log_prod\n",
    "\n",
    "losses = []\n",
    "loss_fn = nn.NLLLoss()\n",
    "model = NGramLanguageModel(len(vocab),EMBEDDING_SIZE,CONTEXT_SIZE)\n",
    "optimizer = optim.SGD(model.parameters(),lr=0.01)\n",
    "for epoch in range(20):\n",
    "    total_loss = 0.\n",
    "    for context ,target in trigrams:\n",
    "        context_idx = torch.tensor([word_to_idx[i] for i in context],dtype=torch.long)\n",
    "        model.zero_grad()\n",
    "        log_prod = model(context_idx)\n",
    "        loss = loss_fn(log_prod,torch.tensor([word_to_idx[target]],dtype=torch.long))\n",
    "        loss.backward()\n",
    "        optimizer.step()\n",
    "        total_loss +=loss.item()\n",
    "    losses.append(total_loss)\n",
    "    print('after {} epoch ,train total loss is {}'.format(epoch,total_loss))\n",
    "    "
   ]
  },
  {
   "cell_type": "code",
   "execution_count": 25,
   "metadata": {},
   "outputs": [
    {
     "data": {
      "text/plain": [
       "torch.Size([1, 2])"
      ]
     },
     "execution_count": 25,
     "metadata": {},
     "output_type": "execute_result"
    }
   ],
   "source": [
    "context_idx.size()"
   ]
  },
  {
   "cell_type": "code",
   "execution_count": null,
   "metadata": {},
   "outputs": [],
   "source": []
  }
 ],
 "metadata": {
  "kernelspec": {
   "display_name": "Python 3",
   "language": "python",
   "name": "python3"
  },
  "language_info": {
   "codemirror_mode": {
    "name": "ipython",
    "version": 3
   },
   "file_extension": ".py",
   "mimetype": "text/x-python",
   "name": "python",
   "nbconvert_exporter": "python",
   "pygments_lexer": "ipython3",
   "version": "3.7.6"
  },
  "toc": {
   "base_numbering": 1,
   "nav_menu": {},
   "number_sections": true,
   "sideBar": true,
   "skip_h1_title": false,
   "title_cell": "Table of Contents",
   "title_sidebar": "Contents",
   "toc_cell": false,
   "toc_position": {},
   "toc_section_display": true,
   "toc_window_display": false
  }
 },
 "nbformat": 4,
 "nbformat_minor": 4
}

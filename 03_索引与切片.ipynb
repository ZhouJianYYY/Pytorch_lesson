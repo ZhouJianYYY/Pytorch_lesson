{
 "cells": [
  {
   "cell_type": "code",
   "execution_count": 1,
   "metadata": {},
   "outputs": [],
   "source": [
    "import torch\n",
    "import numpy as np"
   ]
  },
  {
   "cell_type": "code",
   "execution_count": null,
   "metadata": {},
   "outputs": [],
   "source": [
    "# []\n",
    "# :  start:end:step\n",
    "# ...\n",
    "# index_select\n",
    "# mask"
   ]
  },
  {
   "cell_type": "code",
   "execution_count": 2,
   "metadata": {},
   "outputs": [
    {
     "name": "stdout",
     "output_type": "stream",
     "text": [
      "torch.Size([3, 28, 28])\n",
      "torch.Size([28, 28])\n",
      "torch.Size([28])\n",
      "torch.Size([])\n"
     ]
    }
   ],
   "source": [
    "a = torch.Tensor(4,3,28,28)\n",
    "print(a[0].shape)\n",
    "print(a[0,1].shape)\n",
    "print(a[0,2,3].shape)\n",
    "print(a[0,1,1,1].shape)"
   ]
  },
  {
   "cell_type": "code",
   "execution_count": 8,
   "metadata": {},
   "outputs": [
    {
     "name": "stdout",
     "output_type": "stream",
     "text": [
      "torch.Size([3, 2, 28, 28])\n",
      "torch.Size([3, 3, 14, 28])\n"
     ]
    }
   ],
   "source": [
    "a=torch.Tensor(4,3,28,28)\n",
    "print(a[:3,1:].shape)\n",
    "print(a[:3,:3,0:28:2].shape)"
   ]
  },
  {
   "cell_type": "code",
   "execution_count": 12,
   "metadata": {},
   "outputs": [
    {
     "name": "stdout",
     "output_type": "stream",
     "text": [
      "torch.Size([4, 3, 4])\n"
     ]
    }
   ],
   "source": [
    "a=torch.Tensor(4,3,28,28)\n",
    "print(a[...,0:28:8,1].shape)"
   ]
  },
  {
   "cell_type": "code",
   "execution_count": 15,
   "metadata": {},
   "outputs": [
    {
     "name": "stdout",
     "output_type": "stream",
     "text": [
      "torch.Size([2, 3, 28, 28])\n",
      "torch.Size([4, 3, 28, 4])\n"
     ]
    }
   ],
   "source": [
    "print(a.index_select(0,torch.tensor([0,2])).shape)\n",
    "# index_select (axis , values)\n",
    "print(a.index_select(3,torch.tensor([0,2,3,5])).shape)"
   ]
  },
  {
   "cell_type": "code",
   "execution_count": 20,
   "metadata": {},
   "outputs": [
    {
     "name": "stdout",
     "output_type": "stream",
     "text": [
      "tensor([[ 1.9184, -0.5270, -0.1989, -0.7034],\n",
      "        [-0.4337,  0.4029,  0.2309, -0.4172],\n",
      "        [-0.2134, -0.1171, -1.6370, -0.2585]])\n",
      "tensor([[ True, False, False, False],\n",
      "        [False, False, False, False],\n",
      "        [False, False, False, False]])\n",
      "tensor([1.9184])\n"
     ]
    }
   ],
   "source": [
    "# 可以获取满足一些条件的值的位置索引，然后用这个索引去取出这些位置的元素\n",
    "a = torch.randn(3,4)\n",
    "print(a)\n",
    "masked = a.ge(0.5)\n",
    "print(masked)\n",
    "print(a[masked])"
   ]
  },
  {
   "cell_type": "code",
   "execution_count": null,
   "metadata": {},
   "outputs": [],
   "source": []
  }
 ],
 "metadata": {
  "kernelspec": {
   "display_name": "Python 3",
   "language": "python",
   "name": "python3"
  },
  "language_info": {
   "codemirror_mode": {
    "name": "ipython",
    "version": 3
   },
   "file_extension": ".py",
   "mimetype": "text/x-python",
   "name": "python",
   "nbconvert_exporter": "python",
   "pygments_lexer": "ipython3",
   "version": "3.7.6"
  },
  "toc": {
   "base_numbering": 1,
   "nav_menu": {},
   "number_sections": true,
   "sideBar": true,
   "skip_h1_title": false,
   "title_cell": "Table of Contents",
   "title_sidebar": "Contents",
   "toc_cell": false,
   "toc_position": {},
   "toc_section_display": true,
   "toc_window_display": false
  }
 },
 "nbformat": 4,
 "nbformat_minor": 2
}

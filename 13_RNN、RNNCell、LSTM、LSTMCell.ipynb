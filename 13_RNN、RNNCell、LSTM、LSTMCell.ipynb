{
 "cells": [
  {
   "cell_type": "code",
   "execution_count": 1,
   "metadata": {},
   "outputs": [],
   "source": [
    "import torch \n",
    "from torch import nn"
   ]
  },
  {
   "cell_type": "markdown",
   "metadata": {},
   "source": [
    "# RNN  "
   ]
  },
  {
   "cell_type": "code",
   "execution_count": 2,
   "metadata": {},
   "outputs": [],
   "source": [
    "# __init__  \n",
    "#     feature_len  hidden_len layers_num \n",
    "# 表示feature_len=100(如每个单词用100维向量表示), hidden_len=10(隐藏单元的尺寸) num_layers 空间层数\n",
    "# seq_num  表示句子的单词数   \n",
    "layer = nn.RNN(100,10) \n",
    "#  \n",
    "x = torch.rand(50,64,100)\n",
    "# return out ,ht \n",
    "\n",
    "# out, ht =forward(x, h0)\n",
    "# h0 shape是[num_layer,batch,hidden_len]\n",
    "\n",
    "h0 = torch.zeros(1,64,10)\n",
    "out,ht= layer(x,h0)"
   ]
  },
  {
   "cell_type": "code",
   "execution_count": 3,
   "metadata": {},
   "outputs": [
    {
     "name": "stdout",
     "output_type": "stream",
     "text": [
      "odict_keys(['weight_ih_l0', 'weight_hh_l0', 'bias_ih_l0', 'bias_hh_l0'])\n",
      "torch.Size([10, 100])\n",
      "torch.Size([10, 10])\n",
      "torch.Size([10])\n",
      "torch.Size([10])\n",
      "torch.Size([50, 64, 10])\n",
      "torch.Size([1, 64, 10])\n"
     ]
    }
   ],
   "source": [
    "print(layer._parameters.keys())\n",
    "print(layer.weight_ih_l0.shape) # Wih \n",
    "print(layer.weight_hh_l0.shape) # Whh\n",
    "print(layer.bias_ih_l0.shape)\n",
    "print(layer.bias_hh_l0.shape)\n",
    "print(out.shape)  # seq_num , b , hid_num\n",
    "print(ht.shape) # layer_num , b , hid_num"
   ]
  },
  {
   "cell_type": "code",
   "execution_count": 4,
   "metadata": {},
   "outputs": [
    {
     "name": "stdout",
     "output_type": "stream",
     "text": [
      "odict_keys(['weight_ih_l0', 'weight_hh_l0', 'bias_ih_l0', 'bias_hh_l0', 'weight_ih_l1', 'weight_hh_l1', 'bias_ih_l1', 'bias_hh_l1'])\n",
      "torch.Size([10, 100])\n",
      "torch.Size([10, 10])\n"
     ]
    }
   ],
   "source": [
    "layer = nn.RNN(100,10,num_layers=2)\n",
    "print(layer._parameters.keys())\n",
    "print(layer.weight_ih_l0.shape)\n",
    "print(layer.weight_ih_l1.shape)"
   ]
  },
  {
   "cell_type": "code",
   "execution_count": 5,
   "metadata": {},
   "outputs": [
    {
     "name": "stdout",
     "output_type": "stream",
     "text": [
      "torch.Size([50, 64, 10])\n",
      "torch.Size([2, 64, 10])\n"
     ]
    }
   ],
   "source": [
    "x = torch.rand(50,64,100)\n",
    "h0 = torch.zeros(2,64,10)\n",
    "out,ht = layer(x,h0)\n",
    "print(out.shape)\n",
    "print(ht.shape)"
   ]
  },
  {
   "cell_type": "markdown",
   "metadata": {},
   "source": [
    "![jupyter](20200219093746937.png)"
   ]
  },
  {
   "cell_type": "markdown",
   "metadata": {},
   "source": [
    "# RNNCell"
   ]
  },
  {
   "cell_type": "code",
   "execution_count": null,
   "metadata": {},
   "outputs": [],
   "source": [
    "# 如果要处理的是3个句子，每个句子10个单词，每个单词用长100的向量，\n",
    "# 那么送入nn.RNN的Tensor的shape就是[10,3,100]。\n",
    "\n",
    "# 但如果使用nn.RNNCell，则将每个时刻分开处理，送入的Tensor的shape是[3,100]，\n",
    "# 但要将此计算单元运行10次。显然这种方式比较麻烦，但使用起来也更灵活。"
   ]
  },
  {
   "cell_type": "code",
   "execution_count": 8,
   "metadata": {},
   "outputs": [
    {
     "name": "stdout",
     "output_type": "stream",
     "text": [
      "odict_keys(['weight_ih', 'weight_hh', 'bias_ih', 'bias_hh'])\n",
      "torch.Size([10, 100])\n",
      "torch.Size([10, 10])\n",
      "torch.Size([64, 10])\n"
     ]
    }
   ],
   "source": [
    "# nn.RNN( feature_len  hidden_len )没有layer_num\n",
    "# ht = forward(xt,ht-1\n",
    "net = nn.RNNCell(100,10)\n",
    "print(net._parameters.keys())\n",
    "print(net.weight_ih.shape)\n",
    "print(net.weight_hh.shape)\n",
    "x = torch.rand(64,100)\n",
    "ht = net(x)\n",
    "print(ht.shape)"
   ]
  },
  {
   "cell_type": "code",
   "execution_count": 18,
   "metadata": {},
   "outputs": [
    {
     "name": "stdout",
     "output_type": "stream",
     "text": [
      "torch.Size([3, 20])\n",
      "torch.Size([3, 10])\n"
     ]
    }
   ],
   "source": [
    "# 两层例子\n",
    "cell0 = nn.RNNCell(100,20)\n",
    "cell1 = nn.RNNCell(20,10)\n",
    "h_l0 = torch.zeros(3,20)\n",
    "h_l1 = torch.zeros(3,10)\n",
    "xs = torch.rand(20,3,100)\n",
    "for x in xs.split(1,dim=0):\n",
    "    h1 = cell0(x.squeeze(0),h_l0)\n",
    "    out= cell1(h1,h_l1)\n",
    "    \n",
    "print(h1.shape)    \n",
    "print(out.shape)"
   ]
  },
  {
   "cell_type": "markdown",
   "metadata": {},
   "source": [
    "# LSTM"
   ]
  },
  {
   "cell_type": "code",
   "execution_count": null,
   "metadata": {},
   "outputs": [],
   "source": [
    "# 参数与RNN 一致 返回结果为 out ,(ht,ct)"
   ]
  },
  {
   "cell_type": "code",
   "execution_count": 37,
   "metadata": {},
   "outputs": [
    {
     "name": "stdout",
     "output_type": "stream",
     "text": [
      "odict_keys(['weight_ih_l0', 'weight_hh_l0', 'bias_ih_l0', 'bias_hh_l0', 'weight_ih_l1', 'weight_hh_l1', 'bias_ih_l1', 'bias_hh_l1'])\n",
      "torch.Size([80, 300])\n",
      "torch.Size([80, 20])\n",
      "torch.Size([2, 3, 20])\n",
      "torch.Size([60, 3, 20])\n",
      "torch.Size([2, 3, 20])\n",
      "torch.Size([2, 3, 20])\n"
     ]
    }
   ],
   "source": [
    "lstm = nn.LSTM(input_size=300, hidden_size=20, num_layers=2)\n",
    "print(lstm._parameters.keys())\n",
    "print(lstm.weight_ih_l0.shape)\n",
    "print(lstm.weight_hh_l0.shape)\n",
    "\n",
    "h0 = torch.zeros(2,3,20)\n",
    "c0 = torch.zeros(2,3,20)\n",
    "x = torch.rand(60,3,300)\n",
    "print(h0.shape)\n",
    "out,(h1,c1) = lstm(x,(h0,c0))\n",
    "print(out.shape)\n",
    "print(h1.shape)\n",
    "print(c1.shape)"
   ]
  },
  {
   "cell_type": "markdown",
   "metadata": {},
   "source": [
    "# LSTMCell"
   ]
  },
  {
   "cell_type": "code",
   "execution_count": 39,
   "metadata": {},
   "outputs": [
    {
     "name": "stdout",
     "output_type": "stream",
     "text": [
      "odict_keys(['weight_ih', 'weight_hh', 'bias_ih', 'bias_hh'])\n",
      "torch.Size([80, 300])\n",
      "torch.Size([80, 20])\n"
     ]
    }
   ],
   "source": [
    "lstm = nn.LSTMCell(input_size=300, hidden_size=20)\n",
    "print(lstm._parameters.keys())\n",
    "print(lstm.weight_ih.shape)\n",
    "print(lstm.weight_hh.shape)"
   ]
  },
  {
   "cell_type": "code",
   "execution_count": 42,
   "metadata": {},
   "outputs": [
    {
     "name": "stdout",
     "output_type": "stream",
     "text": [
      "torch.Size([3, 20])\n",
      "torch.Size([3, 20])\n",
      "torch.Size([3, 20])\n"
     ]
    }
   ],
   "source": [
    "h0 = torch.zeros(3,20)\n",
    "c0 = torch.zeros(3,20)\n",
    "x = torch.rand(3,300)\n",
    "print(h0.shape)\n",
    "h1,c1 = lstm(x,(h0,c0))\n",
    "print(h1.shape)\n",
    "print(c1.shape)"
   ]
  },
  {
   "cell_type": "code",
   "execution_count": null,
   "metadata": {},
   "outputs": [],
   "source": []
  }
 ],
 "metadata": {
  "kernelspec": {
   "display_name": "Python 3",
   "language": "python",
   "name": "python3"
  },
  "language_info": {
   "codemirror_mode": {
    "name": "ipython",
    "version": 3
   },
   "file_extension": ".py",
   "mimetype": "text/x-python",
   "name": "python",
   "nbconvert_exporter": "python",
   "pygments_lexer": "ipython3",
   "version": "3.7.4"
  },
  "toc": {
   "base_numbering": 1,
   "nav_menu": {},
   "number_sections": true,
   "sideBar": true,
   "skip_h1_title": false,
   "title_cell": "Table of Contents",
   "title_sidebar": "Contents",
   "toc_cell": false,
   "toc_position": {},
   "toc_section_display": true,
   "toc_window_display": true
  }
 },
 "nbformat": 4,
 "nbformat_minor": 2
}

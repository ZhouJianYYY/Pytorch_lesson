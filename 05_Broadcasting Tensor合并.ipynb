{
 "cells": [
  {
   "cell_type": "code",
   "execution_count": 1,
   "metadata": {},
   "outputs": [],
   "source": [
    "import torch\n",
    "import numpy as np"
   ]
  },
  {
   "cell_type": "markdown",
   "metadata": {},
   "source": [
    "# cat"
   ]
  },
  {
   "cell_type": "code",
   "execution_count": 8,
   "metadata": {},
   "outputs": [
    {
     "name": "stdout",
     "output_type": "stream",
     "text": [
      "torch.Size([9, 3, 4])\n"
     ]
    }
   ],
   "source": [
    "# 保证其它维度的size是相同的。\n",
    "a = torch.randn(4,3,4)\n",
    "b = torch.randn(5,3,4)\n",
    "c = torch.cat([a,b],dim=0)\n",
    "print(c.shape)"
   ]
  },
  {
   "cell_type": "markdown",
   "metadata": {},
   "source": [
    "# stack"
   ]
  },
  {
   "cell_type": "code",
   "execution_count": 9,
   "metadata": {},
   "outputs": [
    {
     "name": "stdout",
     "output_type": "stream",
     "text": [
      "torch.Size([4, 2, 3, 4])\n"
     ]
    }
   ],
   "source": [
    "# 新增维度 \n",
    "a = torch.randn(4,3,4)\n",
    "b = torch.randn(4,3,4)\n",
    "c = torch.stack([a,b],dim=1)\n",
    "print(c.shape)"
   ]
  },
  {
   "cell_type": "markdown",
   "metadata": {},
   "source": [
    "# split"
   ]
  },
  {
   "cell_type": "code",
   "execution_count": 16,
   "metadata": {},
   "outputs": [
    {
     "name": "stdout",
     "output_type": "stream",
     "text": [
      "torch.Size([4, 3, 28, 28])\n",
      "torch.Size([2, 3, 28, 28]) torch.Size([2, 3, 28, 28])\n",
      "torch.Size([4, 3, 1, 28]) torch.Size([4, 3, 2, 28]) torch.Size([4, 3, 25, 28])\n"
     ]
    }
   ],
   "source": [
    "# 可以指定拆分后的几个Tensor各取多少长度，或者指定每个Tensor取多少长度。\n",
    "a = torch.randn(4,3,28,28)\n",
    "print(a.shape)\n",
    "c ,d = a.split(2,dim=0)\n",
    "print(c.shape,d.shape)\n",
    "g,h,i= a.split([1,2,25],dim=2)\n",
    "print(g.shape,h.shape,i.shape)"
   ]
  },
  {
   "cell_type": "markdown",
   "metadata": {},
   "source": [
    "# chunk"
   ]
  },
  {
   "cell_type": "code",
   "execution_count": 21,
   "metadata": {},
   "outputs": [
    {
     "name": "stdout",
     "output_type": "stream",
     "text": [
      "torch.Size([4, 3, 28, 28])\n",
      "torch.Size([4, 3, 28, 4])\n"
     ]
    }
   ],
   "source": [
    "# 给定在指定的维度上要拆分得的份数\n",
    "print(a.shape)\n",
    "print(a.chunk(5,dim=3)[4].shape)"
   ]
  },
  {
   "cell_type": "markdown",
   "metadata": {},
   "source": [
    "# + - * / "
   ]
  },
  {
   "cell_type": "code",
   "execution_count": 23,
   "metadata": {},
   "outputs": [
    {
     "name": "stdout",
     "output_type": "stream",
     "text": [
      "torch.Size([3, 4])\n",
      "torch.Size([3, 4])\n",
      "torch.Size([3, 4])\n",
      "torch.Size([3, 4])\n"
     ]
    }
   ],
   "source": [
    "a = torch.rand(3,4)\n",
    "b = torch.rand(4)\n",
    "c = a+b # add\n",
    "print(c.shape)\n",
    "\n",
    "d = a-b # sub\n",
    "print(d.shape)\n",
    "\n",
    "e = a*b  # mul\n",
    "print(e.shape)\n",
    "\n",
    "g = a/d # div\n",
    "print(g.shape)"
   ]
  },
  {
   "cell_type": "markdown",
   "metadata": {},
   "source": [
    "# mm matmul @"
   ]
  },
  {
   "cell_type": "code",
   "execution_count": 32,
   "metadata": {},
   "outputs": [
    {
     "name": "stdout",
     "output_type": "stream",
     "text": [
      "torch.Size([3, 1])\n",
      "torch.Size([3, 4, 3])\n",
      "torch.Size([3, 4, 3])\n"
     ]
    }
   ],
   "source": [
    "# mm 只适用于2维\n",
    "a = torch.rand(3,4)\n",
    "b = torch.rand(4,1)\n",
    "print(a.mm(b).shape)\n",
    "\n",
    "a = torch.rand(3,4,6)\n",
    "b = torch.rand(1,6,3)\n",
    "# 后两个维度作为 矩阵进行运算 可以适用broadcast\n",
    "print(a.matmul(b).shape)\n",
    "print((a@b).shape)"
   ]
  },
  {
   "cell_type": "markdown",
   "metadata": {},
   "source": [
    "# pow sqrt rsqrt"
   ]
  },
  {
   "cell_type": "code",
   "execution_count": 33,
   "metadata": {},
   "outputs": [
    {
     "name": "stdout",
     "output_type": "stream",
     "text": [
      "tensor([100., 100., 100., 100.])\n",
      "tensor([3.1623, 3.1623, 3.1623, 3.1623])\n",
      "tensor([0.3162, 0.3162, 0.3162, 0.3162])\n"
     ]
    }
   ],
   "source": [
    "a = torch.full([4],10)\n",
    "\n",
    "c = a.pow(2)\n",
    "print(c)\n",
    "\n",
    "d = a.sqrt()\n",
    "print(d)\n",
    "\n",
    "e = a.rsqrt()\n",
    "print(e)"
   ]
  },
  {
   "cell_type": "markdown",
   "metadata": {},
   "source": [
    "# exp log floor ceil trunc frac  round"
   ]
  },
  {
   "cell_type": "code",
   "execution_count": 37,
   "metadata": {},
   "outputs": [
    {
     "name": "stdout",
     "output_type": "stream",
     "text": [
      "tensor([[2.7183, 2.7183],\n",
      "        [2.7183, 2.7183]])\n",
      "tensor([[1., 1.],\n",
      "        [1., 1.]])\n",
      "tensor(3.) tensor(4.) tensor(3.) tensor(0.1415)\n"
     ]
    }
   ],
   "source": [
    "a = torch.exp(torch.ones(2,2))\n",
    "print(a)\n",
    "b = torch.log(a)\n",
    "print(b)\n",
    "a = torch.tensor(3.1415)\n",
    "print(a.floor(),a.ceil(),a.trunc(),a.frac())"
   ]
  },
  {
   "cell_type": "code",
   "execution_count": 43,
   "metadata": {},
   "outputs": [
    {
     "name": "stdout",
     "output_type": "stream",
     "text": [
      "tensor(3.) tensor(31.)\n"
     ]
    }
   ],
   "source": [
    "print(a.round(),(a*torch.tensor(10.)).round())"
   ]
  },
  {
   "cell_type": "markdown",
   "metadata": {},
   "source": [
    "# grad.clamp"
   ]
  },
  {
   "cell_type": "code",
   "execution_count": 47,
   "metadata": {},
   "outputs": [
    {
     "name": "stdout",
     "output_type": "stream",
     "text": [
      "tensor([[ 0.9472,  1.8314, 14.8476],\n",
      "        [ 5.8018,  8.8303, 14.5284]])\n",
      "tensor([[10.0000, 10.0000, 14.8476],\n",
      "        [10.0000, 10.0000, 14.5284]])\n",
      "tensor([[ 5.0000,  5.0000, 10.0000],\n",
      "        [ 5.8018,  8.8303, 10.0000]])\n"
     ]
    }
   ],
   "source": [
    "# Tensor中的元素进行范围过滤，不符合条件的可以把它变换到范围内部（边界）上，常用于梯度裁剪（gradient clipping）\n",
    "a = torch.rand(2,3) * 15\n",
    "print(a)\n",
    "a.clamp()\n",
    "print(a.clamp(10)) # 最小值\n",
    "print(a.clamp(5,10))"
   ]
  },
  {
   "cell_type": "code",
   "execution_count": null,
   "metadata": {},
   "outputs": [],
   "source": []
  },
  {
   "cell_type": "code",
   "execution_count": null,
   "metadata": {},
   "outputs": [],
   "source": []
  },
  {
   "cell_type": "code",
   "execution_count": null,
   "metadata": {},
   "outputs": [],
   "source": []
  },
  {
   "cell_type": "code",
   "execution_count": null,
   "metadata": {},
   "outputs": [],
   "source": []
  }
 ],
 "metadata": {
  "kernelspec": {
   "display_name": "Python 3",
   "language": "python",
   "name": "python3"
  },
  "language_info": {
   "codemirror_mode": {
    "name": "ipython",
    "version": 3
   },
   "file_extension": ".py",
   "mimetype": "text/x-python",
   "name": "python",
   "nbconvert_exporter": "python",
   "pygments_lexer": "ipython3",
   "version": "3.7.6"
  },
  "toc": {
   "base_numbering": 1,
   "nav_menu": {},
   "number_sections": true,
   "sideBar": true,
   "skip_h1_title": false,
   "title_cell": "Table of Contents",
   "title_sidebar": "Contents",
   "toc_cell": false,
   "toc_position": {},
   "toc_section_display": true,
   "toc_window_display": false
  }
 },
 "nbformat": 4,
 "nbformat_minor": 2
}

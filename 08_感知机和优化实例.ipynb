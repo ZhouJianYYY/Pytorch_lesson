{
 "cells": [
  {
   "cell_type": "code",
   "execution_count": 1,
   "metadata": {},
   "outputs": [],
   "source": [
    "import torch\n",
    "import numpy as np\n",
    "from torch.nn import functional as F"
   ]
  },
  {
   "cell_type": "code",
   "execution_count": 2,
   "metadata": {},
   "outputs": [
    {
     "name": "stdout",
     "output_type": "stream",
     "text": [
      "tensor(0.0068, grad_fn=<MeanBackward0>)\n"
     ]
    },
    {
     "name": "stderr",
     "output_type": "stream",
     "text": [
      "D:\\software\\anaconda3\\lib\\site-packages\\ipykernel_launcher.py:6: UserWarning: Using a target size (torch.Size([4, 2])) that is different to the input size (torch.Size([2])). This will likely lead to incorrect results due to broadcasting. Please ensure they have the same size.\n",
      "  \n"
     ]
    }
   ],
   "source": [
    "a = torch.rand(4,10)\n",
    "w =torch.rand(2,10,requires_grad=True)\n",
    "b = torch.zeros(4,2,requires_grad=True)\n",
    "y = torch.ones([2])\n",
    "pred = torch.sigmoid(a@w.t() + b)\n",
    "loss = F.mse_loss(y,pred)\n",
    "print(loss)"
   ]
  },
  {
   "cell_type": "code",
   "execution_count": 3,
   "metadata": {},
   "outputs": [],
   "source": [
    "loss.backward(retain_graph=True)"
   ]
  },
  {
   "cell_type": "code",
   "execution_count": 4,
   "metadata": {},
   "outputs": [
    {
     "name": "stdout",
     "output_type": "stream",
     "text": [
      "tensor([[-0.0016, -0.0039, -0.0045, -0.0018, -0.0039, -0.0024, -0.0045, -0.0045,\n",
      "         -0.0011, -0.0039],\n",
      "        [-0.0010, -0.0021, -0.0029, -0.0012, -0.0022, -0.0019, -0.0028, -0.0024,\n",
      "         -0.0009, -0.0021]])\n",
      "tensor([[-0.0018, -0.0006],\n",
      "        [-0.0007, -0.0005],\n",
      "        [-0.0040, -0.0024],\n",
      "        [-0.0010, -0.0012]])\n"
     ]
    }
   ],
   "source": [
    "print(w.grad)\n",
    "print(b.grad)"
   ]
  },
  {
   "cell_type": "code",
   "execution_count": 5,
   "metadata": {},
   "outputs": [
    {
     "data": {
      "text/plain": [
       "<Figure size 1000x1000 with 1 Axes>"
      ]
     },
     "metadata": {},
     "output_type": "display_data"
    }
   ],
   "source": [
    "from matplotlib import pyplot as plt\n",
    "from mpl_toolkits.mplot3d import Axes3D\n",
    "\n",
    "\n",
    "def himmelblau(x):\n",
    "    return (x[0] ** 2 + x[1] - 11) ** 2 + (x[0] + x[1] ** 2 - 7) ** 2\n",
    "\n",
    "x = np.arange(-6,6,0.1)\n",
    "y = np.arange(-6,6,0.1)\n",
    "X,Y = np.meshgrid(x,y)\n",
    "Z=himmelblau([X,Y])\n",
    "\n",
    "fig = plt.figure(\"himmeblau\",figsize =(10,10))\n",
    "ax = fig.gca(projection='3d')\n",
    "ax.plot_surface(X, Y, Z)\n",
    "ax.view_init(60, -30)\n",
    "ax.set_xlabel('x')\n",
    "ax.set_ylabel('y')\n",
    "plt.show()"
   ]
  },
  {
   "cell_type": "code",
   "execution_count": 15,
   "metadata": {},
   "outputs": [
    {
     "name": "stdout",
     "output_type": "stream",
     "text": [
      "0 x:  [3.999000072479248, -0.0009999999310821295] loss: 34.0\n",
      "2000 x:  [3.5741987228393555, -1.764183521270752] loss: 0.09904692322015762\n",
      "4000 x:  [3.5844225883483887, -1.8481197357177734] loss: 2.1100277081131935e-09\n",
      "6000 x:  [3.5844264030456543, -1.8481241464614868] loss: 2.41016095969826e-10\n",
      "8000 x:  [3.58442759513855, -1.848125696182251] loss: 2.9103830456733704e-11\n",
      "10000 x:  [3.584428310394287, -1.8481262922286987] loss: 9.094947017729282e-13\n",
      "12000 x:  [3.584428310394287, -1.8481265306472778] loss: 0.0\n",
      "14000 x:  [3.584428310394287, -1.8481265306472778] loss: 0.0\n",
      "16000 x:  [3.584428310394287, -1.8481265306472778] loss: 0.0\n",
      "18000 x:  [3.584428310394287, -1.8481265306472778] loss: 0.0\n"
     ]
    }
   ],
   "source": [
    "x = torch.tensor([4.,0.],requires_grad=True)\n",
    "optimizer = torch.optim.Adam([x], lr=1e-3)\n",
    "for step in range(20000):\n",
    "    res = himmelblau(x)\n",
    "    optimizer.zero_grad()\n",
    "    res.backward()\n",
    "    optimizer.step()\n",
    "    if step % 2000==0:\n",
    "        print(step,'x: ',x.tolist(),'loss:', res.item())\n",
    "    "
   ]
  },
  {
   "cell_type": "code",
   "execution_count": null,
   "metadata": {},
   "outputs": [],
   "source": []
  },
  {
   "cell_type": "code",
   "execution_count": null,
   "metadata": {},
   "outputs": [],
   "source": []
  },
  {
   "cell_type": "code",
   "execution_count": null,
   "metadata": {},
   "outputs": [],
   "source": []
  },
  {
   "cell_type": "code",
   "execution_count": null,
   "metadata": {},
   "outputs": [],
   "source": []
  },
  {
   "cell_type": "code",
   "execution_count": null,
   "metadata": {},
   "outputs": [],
   "source": []
  },
  {
   "cell_type": "code",
   "execution_count": null,
   "metadata": {},
   "outputs": [],
   "source": []
  }
 ],
 "metadata": {
  "kernelspec": {
   "display_name": "Python 3",
   "language": "python",
   "name": "python3"
  },
  "language_info": {
   "codemirror_mode": {
    "name": "ipython",
    "version": 3
   },
   "file_extension": ".py",
   "mimetype": "text/x-python",
   "name": "python",
   "nbconvert_exporter": "python",
   "pygments_lexer": "ipython3",
   "version": "3.7.6"
  },
  "toc": {
   "base_numbering": 1,
   "nav_menu": {},
   "number_sections": true,
   "sideBar": true,
   "skip_h1_title": false,
   "title_cell": "Table of Contents",
   "title_sidebar": "Contents",
   "toc_cell": false,
   "toc_position": {},
   "toc_section_display": true,
   "toc_window_display": false
  }
 },
 "nbformat": 4,
 "nbformat_minor": 2
}

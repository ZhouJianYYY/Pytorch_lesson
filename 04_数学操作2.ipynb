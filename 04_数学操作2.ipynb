{
 "cells": [
  {
   "cell_type": "markdown",
   "metadata": {},
   "source": [
    "# Tensor的其他函数  \n",
    "可以用Tensor.Function 形式调用"
   ]
  },
  {
   "cell_type": "code",
   "execution_count": 6,
   "metadata": {},
   "outputs": [],
   "source": [
    "import torch "
   ]
  },
  {
   "cell_type": "markdown",
   "metadata": {},
   "source": [
    "* cpu  \n",
    "* cuda "
   ]
  },
  {
   "cell_type": "markdown",
   "metadata": {},
   "source": [
    "* data_ptr  \n",
    "返回tensor第一个元素的地址"
   ]
  },
  {
   "cell_type": "code",
   "execution_count": 8,
   "metadata": {},
   "outputs": [
    {
     "data": {
      "text/plain": [
       "1891953156800"
      ]
     },
     "execution_count": 8,
     "metadata": {},
     "output_type": "execute_result"
    }
   ],
   "source": [
    "x = torch.randn(3,3)\n",
    "x.data_ptr()"
   ]
  },
  {
   "cell_type": "markdown",
   "metadata": {},
   "source": [
    "* element_size   \n",
    "返回单个元素的字节大小"
   ]
  },
  {
   "cell_type": "code",
   "execution_count": 10,
   "metadata": {},
   "outputs": [
    {
     "data": {
      "text/plain": [
       "4"
      ]
     },
     "execution_count": 10,
     "metadata": {},
     "output_type": "execute_result"
    }
   ],
   "source": [
    "x.element_size()"
   ]
  },
  {
   "cell_type": "markdown",
   "metadata": {},
   "source": [
    "* expand(*sizes)   \n",
    "单个维度扩大为更大的尺寸\n",
    "* expand_as(tensor)   == expand(tenser.size())   "
   ]
  },
  {
   "cell_type": "code",
   "execution_count": 24,
   "metadata": {},
   "outputs": [
    {
     "name": "stdout",
     "output_type": "stream",
     "text": [
      "torch.Size([3, 3])\n",
      "torch.Size([4, 3, 3])\n",
      "tensor([[[-0.6773, -1.8100, -0.2612],\n",
      "         [-0.1534, -0.4716, -0.1023],\n",
      "         [ 1.5681,  0.2160, -0.9568]],\n",
      "\n",
      "        [[-0.6773, -1.8100, -0.2612],\n",
      "         [-0.1534, -0.4716, -0.1023],\n",
      "         [ 1.5681,  0.2160, -0.9568]],\n",
      "\n",
      "        [[-0.6773, -1.8100, -0.2612],\n",
      "         [-0.1534, -0.4716, -0.1023],\n",
      "         [ 1.5681,  0.2160, -0.9568]],\n",
      "\n",
      "        [[-0.6773, -1.8100, -0.2612],\n",
      "         [-0.1534, -0.4716, -0.1023],\n",
      "         [ 1.5681,  0.2160, -0.9568]]])\n"
     ]
    }
   ],
   "source": [
    "print(x.size())\n",
    "x.view(1,3,3)\n",
    "y =x.expand(4,3,3)\n",
    "print(y.size())\n",
    "print(y)"
   ]
  },
  {
   "cell_type": "markdown",
   "metadata": {},
   "source": [
    "* fill_(value)\n",
    "* float()\n",
    "* int()\n",
    "* long()\n",
    "* short()\n",
    "* numpy()\n",
    "* is_contiguous()\n",
    "* is_cuda()\n",
    "* permute()\n",
    "* size()"
   ]
  },
  {
   "cell_type": "code",
   "execution_count": 19,
   "metadata": {},
   "outputs": [
    {
     "data": {
      "text/plain": [
       "torch.Size([3, 3, 4])"
      ]
     },
     "execution_count": 19,
     "metadata": {},
     "output_type": "execute_result"
    }
   ],
   "source": [
    "y.permute(2,1,0).size()"
   ]
  },
  {
   "cell_type": "markdown",
   "metadata": {},
   "source": [
    "* repeat()"
   ]
  },
  {
   "cell_type": "code",
   "execution_count": 23,
   "metadata": {},
   "outputs": [
    {
     "name": "stdout",
     "output_type": "stream",
     "text": [
      "tensor([[-0.6773, -1.8100, -0.2612],\n",
      "        [-0.1534, -0.4716, -0.1023],\n",
      "        [ 1.5681,  0.2160, -0.9568]])\n"
     ]
    },
    {
     "data": {
      "text/plain": [
       "tensor([[-0.6773, -1.8100, -0.2612, -0.6773, -1.8100, -0.2612],\n",
       "        [-0.1534, -0.4716, -0.1023, -0.1534, -0.4716, -0.1023],\n",
       "        [ 1.5681,  0.2160, -0.9568,  1.5681,  0.2160, -0.9568],\n",
       "        [-0.6773, -1.8100, -0.2612, -0.6773, -1.8100, -0.2612],\n",
       "        [-0.1534, -0.4716, -0.1023, -0.1534, -0.4716, -0.1023],\n",
       "        [ 1.5681,  0.2160, -0.9568,  1.5681,  0.2160, -0.9568]])"
      ]
     },
     "execution_count": 23,
     "metadata": {},
     "output_type": "execute_result"
    }
   ],
   "source": [
    "print(x)\n",
    "x.repeat(2,2)"
   ]
  },
  {
   "cell_type": "markdown",
   "metadata": {},
   "source": [
    "* resize()\n",
    "* tolist()"
   ]
  },
  {
   "cell_type": "markdown",
   "metadata": {},
   "source": [
    "* split()   \n",
    "split(split_size, dim=0)"
   ]
  },
  {
   "cell_type": "code",
   "execution_count": 34,
   "metadata": {},
   "outputs": [
    {
     "data": {
      "text/plain": [
       "(tensor([[[-0.6773, -1.8100, -0.2612],\n",
       "          [-0.1534, -0.4716, -0.1023],\n",
       "          [ 1.5681,  0.2160, -0.9568]],\n",
       " \n",
       "         [[-0.6773, -1.8100, -0.2612],\n",
       "          [-0.1534, -0.4716, -0.1023],\n",
       "          [ 1.5681,  0.2160, -0.9568]],\n",
       " \n",
       "         [[-0.6773, -1.8100, -0.2612],\n",
       "          [-0.1534, -0.4716, -0.1023],\n",
       "          [ 1.5681,  0.2160, -0.9568]],\n",
       " \n",
       "         [[-0.6773, -1.8100, -0.2612],\n",
       "          [-0.1534, -0.4716, -0.1023],\n",
       "          [ 1.5681,  0.2160, -0.9568]]]),)"
      ]
     },
     "execution_count": 34,
     "metadata": {},
     "output_type": "execute_result"
    }
   ],
   "source": [
    "y.split(4,0)"
   ]
  },
  {
   "cell_type": "code",
   "execution_count": 28,
   "metadata": {},
   "outputs": [
    {
     "data": {
      "text/plain": [
       "torch.Size([4, 3, 3])"
      ]
     },
     "execution_count": 28,
     "metadata": {},
     "output_type": "execute_result"
    }
   ],
   "source": [
    "y.size()\n"
   ]
  },
  {
   "cell_type": "code",
   "execution_count": null,
   "metadata": {},
   "outputs": [],
   "source": []
  },
  {
   "cell_type": "code",
   "execution_count": null,
   "metadata": {},
   "outputs": [],
   "source": []
  },
  {
   "cell_type": "code",
   "execution_count": null,
   "metadata": {},
   "outputs": [],
   "source": []
  },
  {
   "cell_type": "code",
   "execution_count": null,
   "metadata": {},
   "outputs": [],
   "source": []
  },
  {
   "cell_type": "code",
   "execution_count": null,
   "metadata": {},
   "outputs": [],
   "source": []
  },
  {
   "cell_type": "code",
   "execution_count": null,
   "metadata": {},
   "outputs": [],
   "source": []
  }
 ],
 "metadata": {
  "kernelspec": {
   "display_name": "Python 3",
   "language": "python",
   "name": "python3"
  },
  "language_info": {
   "codemirror_mode": {
    "name": "ipython",
    "version": 3
   },
   "file_extension": ".py",
   "mimetype": "text/x-python",
   "name": "python",
   "nbconvert_exporter": "python",
   "pygments_lexer": "ipython3",
   "version": "3.7.6"
  },
  "toc": {
   "base_numbering": 1,
   "nav_menu": {},
   "number_sections": true,
   "sideBar": true,
   "skip_h1_title": false,
   "title_cell": "Table of Contents",
   "title_sidebar": "Contents",
   "toc_cell": false,
   "toc_position": {},
   "toc_section_display": true,
   "toc_window_display": false
  }
 },
 "nbformat": 4,
 "nbformat_minor": 4
}

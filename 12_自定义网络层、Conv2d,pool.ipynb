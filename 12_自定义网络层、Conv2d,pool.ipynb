{
 "cells": [
  {
   "cell_type": "code",
   "execution_count": 1,
   "metadata": {},
   "outputs": [],
   "source": [
    "import torch\n",
    "from torch import nn\n",
    "from torch import functional as F\n",
    "from torch import optim"
   ]
  },
  {
   "cell_type": "markdown",
   "metadata": {},
   "source": [
    "# 卷积"
   ]
  },
  {
   "cell_type": "code",
   "execution_count": 2,
   "metadata": {},
   "outputs": [
    {
     "name": "stdout",
     "output_type": "stream",
     "text": [
      "torch.Size([8, 3, 3, 3])\n",
      "torch.Size([8])\n",
      "torch.Size([1, 8, 28, 28])\n"
     ]
    }
   ],
   "source": [
    "x = torch.rand(1, 3, 28, 28)\n",
    "layer = nn.Conv2d(3, 8, kernel_size=3, stride=1, padding=1)\n",
    "out = layer(x)\n",
    "print(layer.weight.shape)\n",
    "print(layer.bias.shape)\n",
    "print(out.shape)"
   ]
  },
  {
   "cell_type": "markdown",
   "metadata": {},
   "source": [
    "\n",
    "# pooling"
   ]
  },
  {
   "cell_type": "code",
   "execution_count": 3,
   "metadata": {},
   "outputs": [
    {
     "name": "stdout",
     "output_type": "stream",
     "text": [
      "torch.Size([1, 8, 14, 14])\n"
     ]
    }
   ],
   "source": [
    "pool_out=nn.MaxPool2d(2,stride=2)(out)\n",
    "print(pool_out.shape)"
   ]
  },
  {
   "cell_type": "code",
   "execution_count": 4,
   "metadata": {},
   "outputs": [
    {
     "name": "stdout",
     "output_type": "stream",
     "text": [
      "torch.Size([1, 8, 56, 56])\n"
     ]
    }
   ],
   "source": [
    "out2 = torch.nn.functional.interpolate(out,scale_factor=2, mode='nearest')\n",
    "print(out2.shape)"
   ]
  },
  {
   "cell_type": "markdown",
   "metadata": {},
   "source": [
    "# RULE"
   ]
  },
  {
   "cell_type": "code",
   "execution_count": 5,
   "metadata": {},
   "outputs": [
    {
     "name": "stdout",
     "output_type": "stream",
     "text": [
      "torch.Size([1, 3, 28, 28])\n"
     ]
    }
   ],
   "source": [
    "layer = nn.ReLU()\n",
    "out=layer(x)\n",
    "print(out.shape)"
   ]
  },
  {
   "cell_type": "markdown",
   "metadata": {},
   "source": [
    "# nn.Module"
   ]
  },
  {
   "cell_type": "code",
   "execution_count": 6,
   "metadata": {},
   "outputs": [
    {
     "name": "stdout",
     "output_type": "stream",
     "text": [
      "torch.Size([1, 3, 2])\n",
      "[Parameter containing:\n",
      "tensor([[ 0.1291, -0.2676,  0.0538, -0.1489, -0.0401, -0.0956, -0.0282, -0.0294,\n",
      "         -0.2129, -0.0744],\n",
      "        [-0.2307, -0.1350, -0.1951, -0.2076,  0.2921, -0.1934, -0.0930, -0.1362,\n",
      "          0.0323,  0.0283],\n",
      "        [-0.1185,  0.0069,  0.0678,  0.2101,  0.1073, -0.2848,  0.0418, -0.1806,\n",
      "         -0.0574, -0.1409],\n",
      "        [-0.1297,  0.1089, -0.0963, -0.2796, -0.2100, -0.0847,  0.1991, -0.0802,\n",
      "         -0.2569,  0.2674],\n",
      "        [-0.1555, -0.1580, -0.1851,  0.1474,  0.1742, -0.0226, -0.1863,  0.2197,\n",
      "          0.1943,  0.1987]], requires_grad=True), Parameter containing:\n",
      "tensor([ 0.2001, -0.0812,  0.2977,  0.1690, -0.2542], requires_grad=True), Parameter containing:\n",
      "tensor([[ 0.4130, -0.3487,  0.2845, -0.3395,  0.4227],\n",
      "        [ 0.0432, -0.3015,  0.2919,  0.1334,  0.1807]], requires_grad=True), Parameter containing:\n",
      "tensor([-0.0959,  0.1810], requires_grad=True)]\n",
      "{'0.weight': Parameter containing:\n",
      "tensor([[ 0.1291, -0.2676,  0.0538, -0.1489, -0.0401, -0.0956, -0.0282, -0.0294,\n",
      "         -0.2129, -0.0744],\n",
      "        [-0.2307, -0.1350, -0.1951, -0.2076,  0.2921, -0.1934, -0.0930, -0.1362,\n",
      "          0.0323,  0.0283],\n",
      "        [-0.1185,  0.0069,  0.0678,  0.2101,  0.1073, -0.2848,  0.0418, -0.1806,\n",
      "         -0.0574, -0.1409],\n",
      "        [-0.1297,  0.1089, -0.0963, -0.2796, -0.2100, -0.0847,  0.1991, -0.0802,\n",
      "         -0.2569,  0.2674],\n",
      "        [-0.1555, -0.1580, -0.1851,  0.1474,  0.1742, -0.0226, -0.1863,  0.2197,\n",
      "          0.1943,  0.1987]], requires_grad=True), '0.bias': Parameter containing:\n",
      "tensor([ 0.2001, -0.0812,  0.2977,  0.1690, -0.2542], requires_grad=True), '1.weight': Parameter containing:\n",
      "tensor([[ 0.4130, -0.3487,  0.2845, -0.3395,  0.4227],\n",
      "        [ 0.0432, -0.3015,  0.2919,  0.1334,  0.1807]], requires_grad=True), '1.bias': Parameter containing:\n",
      "tensor([-0.0959,  0.1810], requires_grad=True)}\n"
     ]
    }
   ],
   "source": [
    "net = nn.Sequential(\n",
    "    nn.Linear(10,5),\n",
    "    nn.Linear(5,2)\n",
    ")\n",
    "x=torch.rand(1,3,10)\n",
    "out=net(x)\n",
    "print(out.shape)\n",
    "print(list(net.parameters()))\n",
    "print(dict(net.named_parameters()))"
   ]
  },
  {
   "cell_type": "code",
   "execution_count": 10,
   "metadata": {},
   "outputs": [
    {
     "name": "stdout",
     "output_type": "stream",
     "text": [
      "torch.Size([4, 2])\n",
      "[Sequential(\n",
      "  (0): BaseNet(\n",
      "    (net): Linear(in_features=4, out_features=3, bias=True)\n",
      "  )\n",
      "  (1): ReLU(inplace=True)\n",
      "  (2): Linear(in_features=3, out_features=2, bias=True)\n",
      ")]\n",
      "[Mynet(\n",
      "  (mynet): Sequential(\n",
      "    (0): BaseNet(\n",
      "      (net): Linear(in_features=4, out_features=3, bias=True)\n",
      "    )\n",
      "    (1): ReLU(inplace=True)\n",
      "    (2): Linear(in_features=3, out_features=2, bias=True)\n",
      "  )\n",
      "), Sequential(\n",
      "  (0): BaseNet(\n",
      "    (net): Linear(in_features=4, out_features=3, bias=True)\n",
      "  )\n",
      "  (1): ReLU(inplace=True)\n",
      "  (2): Linear(in_features=3, out_features=2, bias=True)\n",
      "), BaseNet(\n",
      "  (net): Linear(in_features=4, out_features=3, bias=True)\n",
      "), Linear(in_features=4, out_features=3, bias=True), ReLU(inplace=True), Linear(in_features=3, out_features=2, bias=True)]\n"
     ]
    }
   ],
   "source": [
    "class BaseNet(nn.Module):\n",
    "    def __init__(self):\n",
    "        super(BaseNet,self).__init__()\n",
    "        self.net = nn.Linear(4, 3)\n",
    "    def forward(self, input):\n",
    "        x = self.net(input)\n",
    "        return x\n",
    "\n",
    "class Mynet(nn.Module):\n",
    "    def __init__(self):\n",
    "        super(Mynet, self).__init__()\n",
    "        self.mynet = nn.Sequential(\n",
    "            BaseNet(),\n",
    "            nn.ReLU(True),\n",
    "            nn.Linear(3,2)\n",
    "        )\n",
    "    def forward(self, input):\n",
    "        x = self.mynet(input)\n",
    "        return x \n",
    "    \n",
    "net = Mynet()\n",
    "x = torch.rand(4,4)\n",
    "logit = net(x)\n",
    "print(logit.shape)\n",
    "print(list(net.children()))\n",
    "print(list(net.modules()))"
   ]
  },
  {
   "cell_type": "markdown",
   "metadata": {},
   "source": [
    "# load and save\n"
   ]
  },
  {
   "cell_type": "code",
   "execution_count": 13,
   "metadata": {},
   "outputs": [
    {
     "data": {
      "text/plain": [
       "<All keys matched successfully>"
      ]
     },
     "execution_count": 13,
     "metadata": {},
     "output_type": "execute_result"
    }
   ],
   "source": [
    "net.load_state_dict(torch.load('ckpt.mdl'))"
   ]
  },
  {
   "cell_type": "code",
   "execution_count": 12,
   "metadata": {},
   "outputs": [],
   "source": [
    "torch.save(net.state_dict(),'ckpt.mdl')"
   ]
  },
  {
   "cell_type": "markdown",
   "metadata": {},
   "source": [
    "# 实现自定义的层"
   ]
  },
  {
   "cell_type": "code",
   "execution_count": 15,
   "metadata": {},
   "outputs": [],
   "source": [
    "class Flatten(nn.Module):\n",
    "    def __init__(self):\n",
    "        super(Flatten, self).__init__(self)\n",
    "        \n",
    "    def forward(self, input):\n",
    "        return x.view(input.shape[0],-1)\n"
   ]
  },
  {
   "cell_type": "code",
   "execution_count": 21,
   "metadata": {},
   "outputs": [
    {
     "data": {
      "text/plain": [
       "[Parameter containing:\n",
       " tensor([[0.6175, 0.8351, 0.8340, 0.0837, 0.6190],\n",
       "         [0.4812, 0.6389, 0.9192, 0.0786, 0.1406],\n",
       "         [0.6982, 0.8834, 0.1657, 0.8518, 0.5994],\n",
       "         [0.8682, 0.6035, 0.8661, 0.3129, 0.3741]], requires_grad=True),\n",
       " Parameter containing:\n",
       " tensor([0.5590, 0.8001, 0.9710, 0.9147, 0.1790], requires_grad=True)]"
      ]
     },
     "execution_count": 21,
     "metadata": {},
     "output_type": "execute_result"
    }
   ],
   "source": [
    "class MyLinear(nn.Module):\n",
    "    def __init__(self):\n",
    "        super(MyLinear, self).__init__()\n",
    "        self.w = nn.Parameter(torch.rand(4,5))\n",
    "        self.b = nn.Parameter(torch.rand(5))\n",
    "        \n",
    "    def forward(self, input):\n",
    "        out = input@self.w.t() +self.b\n",
    "        return out\n",
    "\n",
    "layer = MyLinear()\n",
    "list(layer.parameters())"
   ]
  },
  {
   "cell_type": "code",
   "execution_count": null,
   "metadata": {},
   "outputs": [],
   "source": []
  },
  {
   "cell_type": "code",
   "execution_count": null,
   "metadata": {},
   "outputs": [],
   "source": []
  }
 ],
 "metadata": {
  "kernelspec": {
   "display_name": "Python 3",
   "language": "python",
   "name": "python3"
  },
  "language_info": {
   "codemirror_mode": {
    "name": "ipython",
    "version": 3
   },
   "file_extension": ".py",
   "mimetype": "text/x-python",
   "name": "python",
   "nbconvert_exporter": "python",
   "pygments_lexer": "ipython3",
   "version": "3.7.4"
  },
  "toc": {
   "base_numbering": 1,
   "nav_menu": {},
   "number_sections": true,
   "sideBar": true,
   "skip_h1_title": false,
   "title_cell": "Table of Contents",
   "title_sidebar": "Contents",
   "toc_cell": false,
   "toc_position": {},
   "toc_section_display": true,
   "toc_window_display": false
  }
 },
 "nbformat": 4,
 "nbformat_minor": 2
}

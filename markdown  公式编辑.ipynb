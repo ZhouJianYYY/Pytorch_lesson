{
 "cells": [
  {
   "cell_type": "markdown",
   "metadata": {},
   "source": [
    "# 基本语言"
   ]
  },
  {
   "cell_type": "code",
   "execution_count": 4,
   "metadata": {},
   "outputs": [],
   "source": [
    "# LaTeX公式使用$...$定义\n",
    "# 使用$$...$$公式居中并放大显示"
   ]
  },
  {
   "cell_type": "markdown",
   "metadata": {},
   "source": []
  },
  {
   "cell_type": "markdown",
   "metadata": {},
   "source": [
    "# 希腊字母"
   ]
  },
  {
   "cell_type": "markdown",
   "metadata": {},
   "source": [
    "<style> table th:first-of-type { width: 100px; } </style>\n",
    "<table>\n",
    "    <tr>\n",
    "        <th style=\"width: 100px;\">显示</th style=\"width: 100px;\"><th th style=\"width: 100px;\">命令</th><th th style=\"width: 100px;\">显示</th><th th style=\"width: 100px;\">命令</th>\n",
    "    </tr>\n",
    "    <tr>\n",
    "        <th>$\\alpha$</th><th>\\alpha</th><th>$\\beta$</th><th>\\beta</th>\n",
    "    </tr>\n",
    "     <tr>\n",
    "        <th>$\\gamma$</th><th>\\gamma</th><th>$\\delta$</th><th>\\delta</th>\n",
    "    </tr>\n",
    "     <tr>\n",
    "        <th>$\\epsilon$</th><th>\\epsilon</th><th>$\\zeta$</th><th>\\zeta</th>\n",
    "    </tr>\n",
    "     <tr>\n",
    "        <th>$\\eta$</th><th>\\eta</th><th>$\\theta$</th><th>\\theta</th>\n",
    "    </tr>\n",
    "     <tr>\n",
    "        <th>$\\iota$</th><th>\\iota</th><th>$\\kappa$</th><th>\\kappa</th>\n",
    "    </tr>\n",
    "     <tr>\n",
    "        <th>$\\lambda$</th><th>\\lambda</th><th>$\\mu$</th><th>\\mu</th>\n",
    "    </tr>\n",
    "     <tr>\n",
    "        <th>$\\nu$</th><th>\\nu</th><th>$\\xi$</th><th>\\xi</th>\n",
    "    </tr>\n",
    "    <tr>\n",
    "        <th>$\\omicron$</th><th>\\omicron</th><th>$\\pi$</th><th>\\pi</th>\n",
    "    </tr>\n",
    "     <tr>\n",
    "        <th>$\\rho$</th><th>\\rho</th><th>$\\sigma$</th><th>\\sigma</th>\n",
    "    </tr>\n",
    "     <tr>\n",
    "        <th>$\\tau$</th><th>\\tau</th><th>$\\upsilon$</th><th>\\upsilon</th>\n",
    "    </tr>\n",
    "    <tr>\n",
    "        <th>$\\phi$</th><th>\\phi</th><th>$\\varphi$</th><th>\\varphi</th>\n",
    "    </tr>\n",
    "     <tr>\n",
    "        <th>$\\chi$</th><th>\\chi</th><th>$\\psi$</th><th>\\psi</th>\n",
    "    </tr>\n",
    "     <tr>\n",
    "        <th>$\\omega$</th><th>\\omega</th><th>$\\varepsilon$</th><th>\\varepsilon</th>\n",
    "    </tr>\n",
    "    </table>"
   ]
  },
  {
   "cell_type": "markdown",
   "metadata": {},
   "source": [
    "* 大写\n",
    "\n",
    "<style> table th:first-of-type { width: 100px; } </style>\n",
    "<table>\n",
    "    <tr>\n",
    "        <th style=\"width: 100px;\">显示</th style=\"width: 100px;\"><th th style=\"width: 100px;\">命令</th><th th style=\"width: 100px;\">显示</th><th th style=\"width: 100px;\">命令</th>\n",
    "    </tr>\n",
    "    <tr>\n",
    "        <th>$A$</th><th>A</th><th>$B$</th><th>B</th>\n",
    "    </tr>\n",
    "     <tr>\n",
    "        <th>$\\Gamma$</th><th>\\Gamma</th><th>$\\Delta$</th><th>\\Delta</th>\n",
    "    </tr>\n",
    "     <tr>\n",
    "        <th>$E$</th><th>E</th><th>$Z$</th><th>Z</th>\n",
    "    </tr>\n",
    "     <tr>\n",
    "        <th>$H$</th><th>H</th><th>$\\Theta$</th><th>\\Theta</th>\n",
    "    </tr>\n",
    "     <tr>\n",
    "        <th>$I$</th><th>I</th><th>$K$</th><th>K</th>\n",
    "    </tr>\n",
    "     <tr>\n",
    "        <th>$\\Lambda$</th><th>\\Lambda</th><th>$M$</th><th>M</th>\n",
    "    </tr>\n",
    "     <tr>\n",
    "        <th>$N$</th><th>N</th><th>$\\Xi$</th><th>\\Xi</th>\n",
    "    </tr>\n",
    "    <tr>\n",
    "        <th>$O$</th><th>O</th><th>$\\Pi$</th><th>\\Pi</th>\n",
    "    </tr>\n",
    "     <tr>\n",
    "        <th>$P$</th><th>P</th><th>$\\Sigma$</th><th>\\Sigma</th>\n",
    "    </tr>\n",
    "     <tr>\n",
    "        <th>$T$</th><th>T</th><th>$\\Upsilon$</th><th>\\Upsilon</th>\n",
    "    </tr>\n",
    "     <tr>\n",
    "        <th>$\\Phi$</th><th>\\Phi</th><th></th><th></th>\n",
    "    </tr>\n",
    "    <tr>\n",
    "        <th>$X$</th><th>X</th><th>$\\Psi$</th><th>\\Psi</th>\n",
    "    </tr>\n",
    "     <tr>\n",
    "        <th>$\\Omega$</th><th>Omega</th><th></th><th></th>\n",
    "    </tr>\n",
    "    </table>"
   ]
  },
  {
   "cell_type": "markdown",
   "metadata": {},
   "source": [
    "# 关系运算"
   ]
  },
  {
   "cell_type": "markdown",
   "metadata": {},
   "source": [
    "\n",
    "<style> table th:first-of-type { width: 100px; } </style>\n",
    "<table>\n",
    "    <tr>\n",
    "        <th style=\"width: 100px;\">显示</th style=\"width: 100px;\"><th th style=\"width: 100px;\">命令</th><th th style=\"width: 100px;\">显示</th><th th style=\"width: 100px;\">命令</th>\n",
    "    </tr>\n",
    "    <tr>\n",
    "        <th>$\\pm$</th><th>\\pm</th><th>$\\times$</th><th>\\times</th>\n",
    "    </tr>\n",
    "     <tr>\n",
    "        <th>$\\div$</th><th>\\div</th><th>$\\sum$</th><th>\\sum</th>\n",
    "    </tr>\n",
    "     <tr>\n",
    "        <th>$\\prod$</th><th>\\prod</th><th>$\\neq$</th><th>\\neq</th>\n",
    "    </tr>\n",
    "     <tr>\n",
    "        <th>$\\leq$</th><th>\\leq</th><th>$\\geq$</th><th>\\geq</th>\n",
    "    </tr>\n",
    "     </table>"
   ]
  },
  {
   "cell_type": "markdown",
   "metadata": {},
   "source": [
    "# 分数 指数 开方 对数"
   ]
  },
  {
   "cell_type": "markdown",
   "metadata": {},
   "source": [
    "<style> table th:first-of-type { width: 100px; } </style>\n",
    "<table>\n",
    "    <tr>\n",
    "        <th style=\"width: 100px;\">显示</th style=\"width: 100px;\"><th th style=\"width: 100px;\">命令</th><th th style=\"width: 100px;\">显示</th><th th style=\"width: 100px;\">命令</th>\n",
    "    </tr>\n",
    "    <tr>\n",
    "        <th>$\\frac{m}{n}$</th><th>\\frac{m}{n}</th><th>$y^n$</th><th>y^n</th>\n",
    "    </tr>\n",
    "     <tr>\n",
    "        <th>$\\sqrt{m}$</th><th>\\sqrt{n}</th><th>$\\sqrt[n]{m}$</th><th>\\sqrt[n]{m}</th>\n",
    "    </tr>\n",
    "     <tr>\n",
    "        <th>$\\ln m$</th><th>\\ln m</th><th>$\\log_n{m^p}$</th><th>\\log_n{m^p}</th>\n",
    "    </tr>\n",
    "     <tr>\n",
    "        <th>$\\lg m$</th><th>\\lg m</th><th>$\\sqrt[n]{m}$</th><th>\\sqrt[n]{m}</th>\n",
    "    </tr>\n",
    "     </table>"
   ]
  },
  {
   "cell_type": "markdown",
   "metadata": {},
   "source": [
    "# 微积分"
   ]
  },
  {
   "cell_type": "markdown",
   "metadata": {},
   "source": [
    "<style> table th:first-of-type { width: 200px; } </style>\n",
    "<table>\n",
    "    <tr>\n",
    "        <th style=\"width: 200px;\">显示</th style=\"width: 200px;\"><th th style=\"width: 200px;\">命令</th><th th style=\"width: 200px;\">显示</th><th th style=\"width: 200px;\">命令</th>\n",
    "    </tr>\n",
    "    <tr>\n",
    "        <th>$\\int^2_3 x^2{\\rm d}x$</th><th>\\int^2_3 x^2{\\rm d}x</th><th>$\\iint^2_3 x^2{\\rm d}x$</th><th>\\iint^2_3 x^2{\\rm d}x</th>\n",
    "    </tr>\n",
    "     <tr>\n",
    "        <th>$\\iiint$</th><th>\\iiint</th><th>$\\iiint$</th><th>\\iiint</th>\n",
    "    </tr>\n",
    "     <tr>\n",
    "        <th>$\\mathrm{d}$</th><th>\\mathrm{d}</th><th>$\\prime$</th><th>\\prime</th>\n",
    "    </tr>\n",
    "     <tr>\n",
    "        <th>$\\lim$</th><th>\\lim</th><th>$\\infty$</th><th>\\infty</th>\n",
    "    </tr>\n",
    "     <tr>\n",
    "        <th>$\\partial$</th><th>\\partial</th><th></th><th></th>\n",
    "    </tr>\n",
    "     </table>\n",
    "        \n",
    "        "
   ]
  },
  {
   "cell_type": "markdown",
   "metadata": {},
   "source": [
    "# 集合系列"
   ]
  },
  {
   "cell_type": "markdown",
   "metadata": {},
   "source": [
    "<style> table th:first-of-type { width: 200px; } </style>\n",
    "<table>\n",
    "    <tr>\n",
    "        <th style=\"width: 200px;\">显示</th style=\"width: 200px;\"><th th style=\"width: 200px;\">命令</th><th th style=\"width: 200px;\">显示</th><th th style=\"width: 200px;\">命令</th>\n",
    "    </tr>\n",
    "    <tr>\n",
    "        <th>$\\emptyset$</th><th>\\emptyset</th><th>$\\in$</th><th>\\in</th>\n",
    "    </tr>\n",
    "     <tr>\n",
    "        <th>$\\subset$</th><th>\\subset</th><th>$\\supset$</th><th>\\supset</th>\n",
    "    </tr>\n",
    "     <tr>\n",
    "        <th>$\\subseteq$</th><th>\\subseteq</th><th>$\\nsubseteq$</th><th>\\nsubseteq</th>\n",
    "    </tr>\n",
    "     <tr>\n",
    "        <th>$\\nsubseteqq$</th><th>\\nsubseteqq</th><th>$\\nsupseteqq$</th><th>\\nsupseteqq</th>\n",
    "    </tr>\n",
    "     <tr>\n",
    "        <th>$\\bigcap$</th><th>\\bigcap</th><th>$\\bigcup$</th><th>\\bigcup</th>\n",
    "    </tr>\n",
    "     </table>"
   ]
  },
  {
   "cell_type": "code",
   "execution_count": null,
   "metadata": {},
   "outputs": [],
   "source": []
  }
 ],
 "metadata": {
  "kernelspec": {
   "display_name": "Python 3",
   "language": "python",
   "name": "python3"
  },
  "language_info": {
   "codemirror_mode": {
    "name": "ipython",
    "version": 3
   },
   "file_extension": ".py",
   "mimetype": "text/x-python",
   "name": "python",
   "nbconvert_exporter": "python",
   "pygments_lexer": "ipython3",
   "version": "3.7.6"
  },
  "toc": {
   "base_numbering": 1,
   "nav_menu": {},
   "number_sections": true,
   "sideBar": true,
   "skip_h1_title": false,
   "title_cell": "Table of Contents",
   "title_sidebar": "Contents",
   "toc_cell": false,
   "toc_position": {},
   "toc_section_display": true,
   "toc_window_display": false
  }
 },
 "nbformat": 4,
 "nbformat_minor": 4
}

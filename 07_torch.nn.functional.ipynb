{
 "cells": [
  {
   "cell_type": "code",
   "execution_count": 1,
   "metadata": {},
   "outputs": [],
   "source": [
    "import torch\n",
    "import torch.nn.functional as F"
   ]
  },
  {
   "cell_type": "markdown",
   "metadata": {},
   "source": [
    "***相同点***"
   ]
  },
  {
   "cell_type": "markdown",
   "metadata": {},
   "source": [
    "* nn.Xxx和nn.functional.xxx的实际功能是相同  \n",
    "nn.Conv2d和nn.functional.conv2d 都是进行卷积，      \n",
    "nn.Dropout 和nn.functional.dropout都是进行dropout \n",
    "* 运行效率也是近乎相同。  \n"
   ]
  },
  {
   "cell_type": "markdown",
   "metadata": {},
   "source": [
    "***不同点***"
   ]
  },
  {
   "cell_type": "markdown",
   "metadata": {},
   "source": [
    "* nn.functional.xxx是函数接口，nn.Xxx是nn.functional.xxx的类封装"
   ]
  },
  {
   "cell_type": "markdown",
   "metadata": {},
   "source": [
    "从代码分析 nn.Xxx 的forward 调用nn.functional.xxx 函数"
   ]
  },
  {
   "cell_type": "markdown",
   "metadata": {},
   "source": [
    "    class Conv1d(_ConvNd):\n",
    "        def __init__(self, in_channels, out_channels, kernel_size, stride=1,\n",
    "                     padding=0, dilation=1, groups=1, bias=True):\n",
    "            kernel_size = _single(kernel_size)\n",
    "            stride = _single(stride)\n",
    "            padding = _single(padding)\n",
    "            dilation = _single(dilation)\n",
    "            super(Conv1d, self).__init__(\n",
    "                in_channels, out_channels, kernel_size, stride, padding, dilation,\n",
    "                False, _single(0), groups, bias)\n",
    "\n",
    "        def forward(self, input):\n",
    "            return F.conv1d(input, self.weight, self.bias, self.stride,\n",
    "                            self.padding, self.dilation, self.groups)"
   ]
  },
  {
   "cell_type": "markdown",
   "metadata": {},
   "source": [
    "    def conv1d(input, weight, bias=None, stride=1, padding=0, dilation=1,\n",
    "               groups=1):\n",
    "        if input is not None and input.dim() != 3:\n",
    "            raise ValueError(\"Expected 3D tensor as input, got {}D tensor instead.\".format(input.dim()))\n",
    "\n",
    "        f = ConvNd(_single(stride), _single(padding), _single(dilation), False,\n",
    "                   _single(0), groups, torch.backends.cudnn.benchmark,\n",
    "                   torch.backends.cudnn.deterministic, torch.backends.cudnn.enabled)\n",
    "        return f(input, weight, bias)\n"
   ]
  },
  {
   "cell_type": "markdown",
   "metadata": {},
   "source": [
    "* 两者的调用方式不同  \n",
    "     nn.Xxx 需要先实例化   \n",
    "     nn.functional.xxx同时传入输入数据和weight, bias等其他参数 。"
   ]
  },
  {
   "cell_type": "markdown",
   "metadata": {},
   "source": [
    "* nn.Xxx继承于nn.Module， 能够很好的与nn.Sequential结合使用， 而nn.functional.xxx无法与nn.Sequential结合使用。"
   ]
  },
  {
   "cell_type": "markdown",
   "metadata": {},
   "source": [
    "* nn.Xxx不需要你自己定义和管理weight；而nn.functional.xxx需要你自己定义weight，每次调用的时候都需要手动传入weight, 不利于代码复用。"
   ]
  },
  {
   "cell_type": "markdown",
   "metadata": {},
   "source": [
    "*使用建议 ：  \n",
    "\n",
    "**能使用nn.Xxx情况下尽量使用，不行再换nn.functional.xxx**\n",
    "* conv2d, linear, batch_norm 使用nn.Xxx\n",
    "* maxpool, loss func, activation func 使用nn.functional.xxx\n",
    "\n",
    "**dropout，推荐使用nn.Xxx** "
   ]
  },
  {
   "cell_type": "code",
   "execution_count": null,
   "metadata": {},
   "outputs": [],
   "source": []
  },
  {
   "cell_type": "code",
   "execution_count": null,
   "metadata": {},
   "outputs": [],
   "source": []
  }
 ],
 "metadata": {
  "kernelspec": {
   "display_name": "Python 3",
   "language": "python",
   "name": "python3"
  },
  "language_info": {
   "codemirror_mode": {
    "name": "ipython",
    "version": 3
   },
   "file_extension": ".py",
   "mimetype": "text/x-python",
   "name": "python",
   "nbconvert_exporter": "python",
   "pygments_lexer": "ipython3",
   "version": "3.7.6"
  },
  "toc": {
   "base_numbering": 1,
   "nav_menu": {},
   "number_sections": true,
   "sideBar": true,
   "skip_h1_title": false,
   "title_cell": "Table of Contents",
   "title_sidebar": "Contents",
   "toc_cell": false,
   "toc_position": {},
   "toc_section_display": true,
   "toc_window_display": false
  }
 },
 "nbformat": 4,
 "nbformat_minor": 4
}
